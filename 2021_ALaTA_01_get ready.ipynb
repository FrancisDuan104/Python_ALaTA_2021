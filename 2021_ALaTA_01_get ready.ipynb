{
 "cells": [
  {
   "cell_type": "markdown",
   "metadata": {},
   "source": [
    "### Working Directory\n",
    "1. Check working directory ( place where the files and data of Jupyter are stored):\n",
    "\n",
    "%pwd\n",
    "\n",
    "2. CHANGE WORKING DIRECTORY \n",
    "\n",
    "%cd ‘C:\\abx\\cvh\\’\n",
    "\n",
    "**or** \n",
    "\n",
    "\n",
    "Open 'Anaconda Prompt' and run: jupyter notebook --generate-config.\n",
    "\n",
    "\n",
    "- This writes a file to C:\\Users\\username\\.jupyter\\jupyter_notebook_config. \n",
    "\n",
    "\n",
    "- Browse to the file location and open it in an Editor (Notepad ++)\n",
    "\n",
    "\n",
    "- Search for the following line in the file: #c.NotebookApp.notebook_dir = ''\n",
    "\n",
    "\n",
    "- Replace by c.NotebookApp.notebook_dir = ’C:/your/folder/’\n",
    "\n",
    "\n",
    "- Remove the # at the beginning of the line to allow the line to execute\n",
    "\n",
    "\n",
    "- Save and close the file\n",
    "\n"
   ]
  },
  {
   "cell_type": "code",
   "execution_count": 2,
   "metadata": {},
   "outputs": [
    {
     "data": {
      "text/plain": [
       "'C:\\\\Users\\\\julia'"
      ]
     },
     "execution_count": 2,
     "metadata": {},
     "output_type": "execute_result"
    }
   ],
   "source": [
    "%cd ‘C:\\abx\\cvh\\’"
   ]
  },
  {
   "cell_type": "code",
   "execution_count": 6,
   "metadata": {},
   "outputs": [
    {
     "ename": "TypeError",
     "evalue": "can only concatenate str (not \"int\") to str",
     "output_type": "error",
     "traceback": [
      "\u001b[1;31m---------------------------------------------------------------------------\u001b[0m",
      "\u001b[1;31mTypeError\u001b[0m                                 Traceback (most recent call last)",
      "\u001b[1;32m<ipython-input-6-79dcf202a358>\u001b[0m in \u001b[0;36m<module>\u001b[1;34m\u001b[0m\n\u001b[1;32m----> 1\u001b[1;33m \u001b[0mprint\u001b[0m\u001b[1;33m(\u001b[0m\u001b[1;34m'Hello'\u001b[0m \u001b[1;33m+\u001b[0m\u001b[1;36m1\u001b[0m\u001b[1;33m)\u001b[0m\u001b[1;33m\u001b[0m\u001b[1;33m\u001b[0m\u001b[0m\n\u001b[0m\u001b[0;32m      2\u001b[0m \u001b[0mprint\u001b[0m\u001b[1;33m(\u001b[0m\u001b[1;36m1\u001b[0m\u001b[1;33m+\u001b[0m\u001b[1;36m2\u001b[0m\u001b[1;33m)\u001b[0m\u001b[1;33m\u001b[0m\u001b[1;33m\u001b[0m\u001b[0m\n",
      "\u001b[1;31mTypeError\u001b[0m: can only concatenate str (not \"int\") to str"
     ]
    }
   ],
   "source": [
    "print('Hello' +1)\n",
    "print(1+2)"
   ]
  },
  {
   "cell_type": "code",
   "execution_count": 4,
   "metadata": {},
   "outputs": [
    {
     "name": "stdout",
     "output_type": "stream",
     "text": [
      "Hello\n"
     ]
    }
   ],
   "source": [
    "print (\"Hello\")"
   ]
  },
  {
   "cell_type": "markdown",
   "metadata": {},
   "source": [
    "### Values and Types\n",
    "\n",
    "\n",
    "A **value** is one of the basic things a program works with, like a letter or a number.\n",
    "\n",
    "The values above are ***1, 2,3*** and ***“Hello, World!”***\n",
    "\n",
    "\n",
    "These values belong to different types: 2 is an **integer**, and “Hello, World!” is a\n",
    "**string**, so called because it contains a “string” of letters.\n",
    "\n",
    "Strings are enclosed in quotation marks.\n",
    "\n",
    "\n",
    "The print statement also works for integers. \n",
    "\n",
    "\n",
    "Python knows the difference between an integer number and a string.\n",
    "\n",
    "\n",
    "For example “+” means “addition” if something is a number and “concatenate” if something is a string. \n",
    "\n",
    "\n",
    "Python knows what “type” everything is. \n",
    "Some operations are prohibited:\n",
    "\n",
    "\n",
    "You cannot “add 1” to a string\n",
    "\n",
    "\n",
    "We can ask Python what type something is by using **the type() function**.\n",
    "\n"
   ]
  },
  {
   "cell_type": "code",
   "execution_count": 7,
   "metadata": {},
   "outputs": [
    {
     "data": {
      "text/plain": [
       "int"
      ]
     },
     "execution_count": 7,
     "metadata": {},
     "output_type": "execute_result"
    }
   ],
   "source": [
    "type(1)\n",
    "\n"
   ]
  },
  {
   "cell_type": "code",
   "execution_count": 9,
   "metadata": {},
   "outputs": [
    {
     "data": {
      "text/plain": [
       "str"
      ]
     },
     "execution_count": 9,
     "metadata": {},
     "output_type": "execute_result"
    }
   ],
   "source": [
    "type('hello')"
   ]
  },
  {
   "cell_type": "code",
   "execution_count": 7,
   "metadata": {},
   "outputs": [
    {
     "data": {
      "text/plain": [
       "str"
      ]
     },
     "execution_count": 7,
     "metadata": {},
     "output_type": "execute_result"
    }
   ],
   "source": [
    "k = 'nice'\n",
    "type (k)"
   ]
  },
  {
   "cell_type": "markdown",
   "metadata": {},
   "source": [
    "### Several Types of Numbers\n",
    "\n",
    "Numbers have two main types\n",
    "\n",
    "-  **Integers** are whole numbers: \u000b",
    "   -14, -2, 0, 1, 100, 401233\n",
    "\n",
    "\n",
    "-  **Floating Point Numbers** have  decimal parts:  -2.5 , 0.0, 98.6, 14.0\n",
    "\n",
    "\n",
    "There are other number types - they are variations on float and integer\n"
   ]
  },
  {
   "cell_type": "code",
   "execution_count": 11,
   "metadata": {},
   "outputs": [
    {
     "name": "stdout",
     "output_type": "stream",
     "text": [
      "<class 'int'>\n",
      "<class 'int'>\n"
     ]
    }
   ],
   "source": [
    "y = 2\n",
    "print(type(2))\n",
    "print(type(y))"
   ]
  },
  {
   "cell_type": "markdown",
   "metadata": {},
   "source": [
    "When you put an integer and floating point in an expression, the integer is implicitly converted to a float\n",
    "\n",
    "You can control this with the built-in functions int() and float()\n"
   ]
  },
  {
   "cell_type": "code",
   "execution_count": 13,
   "metadata": {},
   "outputs": [
    {
     "data": {
      "text/plain": [
       "int"
      ]
     },
     "execution_count": 13,
     "metadata": {},
     "output_type": "execute_result"
    }
   ],
   "source": [
    "i = 42\n",
    "type(i)\n",
    "\n",
    "\n"
   ]
  },
  {
   "cell_type": "code",
   "execution_count": 14,
   "metadata": {},
   "outputs": [
    {
     "name": "stdout",
     "output_type": "stream",
     "text": [
      "42.0\n"
     ]
    },
    {
     "data": {
      "text/plain": [
       "float"
      ]
     },
     "execution_count": 14,
     "metadata": {},
     "output_type": "execute_result"
    }
   ],
   "source": [
    "f = float(i)\n",
    "print(f)\n",
    "type(f)"
   ]
  },
  {
   "cell_type": "code",
   "execution_count": 8,
   "metadata": {},
   "outputs": [
    {
     "data": {
      "text/plain": [
       "int"
      ]
     },
     "execution_count": 8,
     "metadata": {},
     "output_type": "execute_result"
    }
   ],
   "source": [
    "a = 1\n",
    "type(a)"
   ]
  },
  {
   "cell_type": "code",
   "execution_count": 13,
   "metadata": {},
   "outputs": [
    {
     "name": "stdout",
     "output_type": "stream",
     "text": [
      "1\n",
      "11\n"
     ]
    }
   ],
   "source": [
    "b = str(a)\n",
    "type(b)\n",
    "print(b)\n",
    "print('1'+ b)"
   ]
  },
  {
   "cell_type": "markdown",
   "metadata": {},
   "source": [
    "### Numeric Expressions\n",
    "\n",
    "\n",
    "'+'  Addition\n",
    "\n",
    "'-'\tSubtraction\n",
    "\n",
    "'*'\tMultiplication\n",
    "\n",
    "\n",
    "'/'\tDivision\n",
    "\n",
    "\n",
    "'**' Power\n",
    "\n",
    "\n",
    "'%'\tRemainder (always non-negative)\n"
   ]
  },
  {
   "cell_type": "code",
   "execution_count": 15,
   "metadata": {},
   "outputs": [
    {
     "name": "stdout",
     "output_type": "stream",
     "text": [
      "1\n"
     ]
    }
   ],
   "source": [
    "print(7 % 3) ### 7 - (3*2)"
   ]
  },
  {
   "cell_type": "code",
   "execution_count": 17,
   "metadata": {},
   "outputs": [
    {
     "name": "stdout",
     "output_type": "stream",
     "text": [
      "4.75\n",
      "4.0\n"
     ]
    }
   ],
   "source": [
    "print(9.5 / 2)  \n",
    "print(9.5 // 2) # '//' Special operation to stick with integers. It returns an integer answer,\n",
    "              #rounded strictly down in case of fractional answers."
   ]
  },
  {
   "cell_type": "markdown",
   "metadata": {},
   "source": [
    "### Order of Evaluation\n",
    "\n",
    "When we string operators together - Python must know which one to do first\n",
    "\n",
    "This is called “operator precedence”\n",
    "\n",
    "Which operator “takes precedence” over the others?\n",
    "\n",
    "x = 1 + 2 ** 3 / 4 * 5\n",
    "\n",
    "Highest precedence rule to lowest precedence rule:\n",
    "\n",
    "Parentheses are always respected\n",
    "\n",
    "Exponentiation (raise to a power)\n",
    "\n",
    "Multiplication, Division, and Remainder\n",
    "\n",
    "Addition and Subtraction\n",
    "\n",
    "Left to right\n",
    "\n",
    "\n"
   ]
  },
  {
   "cell_type": "code",
   "execution_count": 24,
   "metadata": {},
   "outputs": [
    {
     "name": "stdout",
     "output_type": "stream",
     "text": [
      "11.0\n"
     ]
    }
   ],
   "source": [
    "x = 1 + 2 ** 3 / 4 * 5\n",
    "print (x)"
   ]
  },
  {
   "cell_type": "markdown",
   "metadata": {},
   "source": [
    "### Converting between types\n",
    "\n",
    "**int()**     converts anything to integer\n",
    "\n",
    "**float()**    converts anything to floating point number\n",
    "\n",
    "**str()**      converts anything to string\n",
    "\n"
   ]
  },
  {
   "cell_type": "code",
   "execution_count": 18,
   "metadata": {},
   "outputs": [
    {
     "name": "stdout",
     "output_type": "stream",
     "text": [
      "5\n",
      "7\n",
      "5\n",
      "5.0\n"
     ]
    }
   ],
   "source": [
    "x = int('5')\n",
    "print(x)\n",
    "print(2 + int('5'))\n",
    "print(str(5))\n",
    "print(float(5))"
   ]
  },
  {
   "cell_type": "code",
   "execution_count": 22,
   "metadata": {},
   "outputs": [
    {
     "name": "stdout",
     "output_type": "stream",
     "text": [
      "5647\n"
     ]
    }
   ],
   "source": [
    "print(str(5647))"
   ]
  },
  {
   "cell_type": "code",
   "execution_count": 24,
   "metadata": {},
   "outputs": [
    {
     "data": {
      "text/plain": [
       "str"
      ]
     },
     "execution_count": 24,
     "metadata": {},
     "output_type": "execute_result"
    }
   ],
   "source": [
    "x = str(5647)\n",
    "type(x)"
   ]
  },
  {
   "cell_type": "code",
   "execution_count": 27,
   "metadata": {},
   "outputs": [
    {
     "data": {
      "text/plain": [
       "str"
      ]
     },
     "execution_count": 27,
     "metadata": {},
     "output_type": "execute_result"
    }
   ],
   "source": [
    "a = str(1+3)\n",
    "type(a)"
   ]
  },
  {
   "cell_type": "markdown",
   "metadata": {},
   "source": [
    "### Task\n",
    "\n",
    "Convert the given number into a string:\n",
    "\n",
    "1. 5647\n",
    "2. 1+3\n"
   ]
  },
  {
   "cell_type": "markdown",
   "metadata": {},
   "source": [
    "### User Input\n",
    "\n",
    "We can instruct Python to pause and read data from the user using **the input()  function.\n",
    "\n",
    "!!! The input()  function returns a string !!!\n"
   ]
  },
  {
   "cell_type": "code",
   "execution_count": 38,
   "metadata": {},
   "outputs": [
    {
     "name": "stdout",
     "output_type": "stream",
     "text": [
      "Who are you? Niky\n",
      "Welcome, Niky!\n"
     ]
    }
   ],
   "source": [
    "name = input('Who are you? ')\n",
    "print('Welcome,', name + '!')"
   ]
  },
  {
   "cell_type": "code",
   "execution_count": 33,
   "metadata": {},
   "outputs": [
    {
     "name": "stdout",
     "output_type": "stream",
     "text": [
      "a\n"
     ]
    },
    {
     "ename": "ValueError",
     "evalue": "invalid literal for int() with base 10: 'a'",
     "output_type": "error",
     "traceback": [
      "\u001b[1;31m---------------------------------------------------------------------------\u001b[0m",
      "\u001b[1;31mValueError\u001b[0m                                Traceback (most recent call last)",
      "\u001b[1;32m<ipython-input-33-7dc6a379411b>\u001b[0m in \u001b[0;36m<module>\u001b[1;34m\u001b[0m\n\u001b[1;32m----> 1\u001b[1;33m \u001b[0mx\u001b[0m \u001b[1;33m=\u001b[0m \u001b[0mint\u001b[0m\u001b[1;33m(\u001b[0m\u001b[0minput\u001b[0m\u001b[1;33m(\u001b[0m\u001b[1;33m)\u001b[0m\u001b[1;33m)\u001b[0m\u001b[1;33m\u001b[0m\u001b[1;33m\u001b[0m\u001b[0m\n\u001b[0m\u001b[0;32m      2\u001b[0m \u001b[0mtype\u001b[0m\u001b[1;33m(\u001b[0m\u001b[0mx\u001b[0m\u001b[1;33m)\u001b[0m\u001b[1;33m\u001b[0m\u001b[1;33m\u001b[0m\u001b[0m\n",
      "\u001b[1;31mValueError\u001b[0m: invalid literal for int() with base 10: 'a'"
     ]
    }
   ],
   "source": [
    "x = int(input())\n",
    "type(x)"
   ]
  },
  {
   "cell_type": "markdown",
   "metadata": {},
   "source": [
    "### Converting User Input\n",
    "If we want to read a number from the user, we must convert it from a string to a number using a type conversion function.\n"
   ]
  },
  {
   "cell_type": "code",
   "execution_count": 39,
   "metadata": {},
   "outputs": [
    {
     "name": "stdout",
     "output_type": "stream",
     "text": [
      "Distance in km? 77\n",
      "Distance in miles 47.845581802274715\n"
     ]
    }
   ],
   "source": [
    "eu = input ('Distance in km? ')\n",
    "us = int(eu)/ 1.609344 \n",
    "print ('Distance in miles', us)"
   ]
  },
  {
   "cell_type": "markdown",
   "metadata": {},
   "source": [
    "### Task\n",
    "\n",
    "Write a program to prompt the user for hours and rate per hour to compute gross pay.\n",
    "\n",
    "Enter Hours: 35\n",
    "\n",
    "Enter Rate: 2.75 \n",
    "\n",
    "Pay: 96.25\n"
   ]
  },
  {
   "cell_type": "code",
   "execution_count": 42,
   "metadata": {},
   "outputs": [
    {
     "name": "stdout",
     "output_type": "stream",
     "text": [
      "6\n",
      "5.8\n",
      "34.8\n"
     ]
    }
   ],
   "source": [
    "hours = int(input())\n",
    "rate = float (input())\n",
    "pay = hours*rate\n",
    "print(pay)"
   ]
  },
  {
   "cell_type": "markdown",
   "metadata": {},
   "source": [
    "### Task\n",
    "\n",
    "Write a program that asks the user from the keyboard his height in centimeters, his weight in kilograms (each indicator - a new line, in a new query) and returns the following message:\n",
    "\n",
    "Body mass index: [value].\n",
    "\n",
    "where  [value] is the calculated value of the body mass index.\n",
    "\n",
    "The body mass index is calculated in the following way:\n",
    "\n",
    "BMI=m/h2\n",
    "\n",
    "where m is body weight in kilograms, h is height in meters."
   ]
  }
 ],
 "metadata": {
  "kernelspec": {
   "display_name": "Python 3",
   "language": "python",
   "name": "python3"
  },
  "language_info": {
   "codemirror_mode": {
    "name": "ipython",
    "version": 3
   },
   "file_extension": ".py",
   "mimetype": "text/x-python",
   "name": "python",
   "nbconvert_exporter": "python",
   "pygments_lexer": "ipython3",
   "version": "3.8.3"
  }
 },
 "nbformat": 4,
 "nbformat_minor": 4
}
