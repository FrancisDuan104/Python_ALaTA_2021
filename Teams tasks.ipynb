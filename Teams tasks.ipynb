{
 "cells": [
  {
   "cell_type": "markdown",
   "metadata": {},
   "source": [
    "You are going to be given a word. Your job is to attach the '!' to the middle character of the word. If the word's length is odd, return the middle character + '!'. If the word's length is even, return the middle 2 characters preceded and followed by \"!'.\n",
    "\n",
    "#Examples:\n",
    "\n",
    "\n",
    "(\"test\") should return \"!es!\"\n",
    "\n",
    "\n",
    "\n",
    "(\"testing\") should return \"t!\""
   ]
  },
  {
   "cell_type": "code",
   "execution_count": 2,
   "metadata": {},
   "outputs": [
    {
     "name": "stdout",
     "output_type": "stream",
     "text": [
      "testing\n",
      "t!\n"
     ]
    }
   ],
   "source": [
    "word = input()\n",
    "x = int (len(word)/2) ### 4/2 = 2; 5/2 = 2.5=int(2.5)=2\n",
    "if len(word)%2==0:\n",
    "    print('!'+(word[x-1]+word[x]+'!')) ## the 2nd character == 1st index,the 3rd ch. == 2nd index.\n",
    "if len(word)%2 !=0: ### else:\n",
    "    print(word[x]+'!')"
   ]
  },
  {
   "cell_type": "markdown",
   "metadata": {},
   "source": [
    "given is a string. If the length of the string is less than 4 print \"too short!\" if it is greater  or equals  4 check if it is even or odd.\n",
    "\n",
    "in case it is even print the last character of the word\n",
    "\n",
    "in case it is odd - print the first one."
   ]
  },
  {
   "cell_type": "code",
   "execution_count": 6,
   "metadata": {},
   "outputs": [
    {
     "name": "stdout",
     "output_type": "stream",
     "text": [
      "Your word is cup\n",
      "too short\n"
     ]
    }
   ],
   "source": [
    "word=input(\"Your word is \")\n",
    "if len(word)<4:\n",
    "    print (\"too short\")\n",
    "else:\n",
    "    if len(word)%2==0:\n",
    "        print (word[-1])\n",
    "    else:\n",
    "        print (word[0])"
   ]
  },
  {
   "cell_type": "markdown",
   "metadata": {},
   "source": [
    "prompt the user for 5 integers ( each on a new line) and then print the sum of these integers ( use 'while loop'). "
   ]
  },
  {
   "cell_type": "code",
   "execution_count": 10,
   "metadata": {},
   "outputs": [
    {
     "name": "stdout",
     "output_type": "stream",
     "text": [
      "1\n",
      "1\n",
      "1\n",
      "1\n",
      "1\n",
      "Sum =  5\n"
     ]
    }
   ],
   "source": [
    "sum=0\n",
    "i=1\n",
    "while i<=5:\n",
    "    num = int(input())\n",
    "    sum = sum + num ### 1 = 0+1;  2 = 1+1; 3 = 2+1; 4= 3+1; 5= 4+1\n",
    "    i+=1\n",
    "\n",
    "print(\"Sum = \", sum)"
   ]
  },
  {
   "cell_type": "code",
   "execution_count": 11,
   "metadata": {},
   "outputs": [
    {
     "name": "stdout",
     "output_type": "stream",
     "text": [
      "1\n",
      "1\n",
      "1\n",
      "1\n",
      "1\n",
      "Sum =  5\n"
     ]
    }
   ],
   "source": [
    "sum=0\n",
    "i=0\n",
    "while True:\n",
    "    num = int(input())\n",
    "    sum += num ### 1 = 0+1;  2 = 1+1; 3 = 2+1; 4= 3+1; 5= 4+1\n",
    "    i+=1\n",
    "    if i ==5:\n",
    "        break\n",
    "print(\"Sum = \", sum)"
   ]
  },
  {
   "cell_type": "code",
   "execution_count": 8,
   "metadata": {},
   "outputs": [
    {
     "name": "stdout",
     "output_type": "stream",
     "text": [
      "1\n",
      "1\n",
      "1\n",
      "1\n",
      "1\n",
      "5\n",
      "15\n"
     ]
    }
   ],
   "source": [
    "n1 = int(input())\n",
    "n2 = int(input())\n",
    "n3 = int(input())\n",
    "n4 = int(input())\n",
    "n5 = int(input())\n",
    "nult = n1+n2+n3+n4+n5\n",
    "print(nult)\n",
    "x = 0\n",
    "y = 0\n",
    "while nult > x:\n",
    "    x = x + 1\n",
    "    y = x + y\n",
    "print (y)"
   ]
  }
 ],
 "metadata": {
  "kernelspec": {
   "display_name": "Python 3",
   "language": "python",
   "name": "python3"
  },
  "language_info": {
   "codemirror_mode": {
    "name": "ipython",
    "version": 3
   },
   "file_extension": ".py",
   "mimetype": "text/x-python",
   "name": "python",
   "nbconvert_exporter": "python",
   "pygments_lexer": "ipython3",
   "version": "3.8.3"
  }
 },
 "nbformat": 4,
 "nbformat_minor": 4
}
